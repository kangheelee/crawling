{
 "cells": [
  {
   "cell_type": "code",
   "execution_count": 2,
   "metadata": {},
   "outputs": [],
   "source": [
    "# _*_ coding: UTF-8 _*_\n",
    "#coding:utf-8\n",
    "from urllib.request import urlopen\n",
    "from selenium import webdriver\n",
    "from bs4 import BeautifulSoup as bs\n",
    "import pandas as pd\n",
    "import csv\n",
    "from selenium.webdriver.remote.webelement import WebElement\n",
    "from selenium.webdriver.common.action_chains import ActionChains\n",
    "from selenium.webdriver.common.keys import Keys\n",
    "import re\n",
    "import numpy as np"
   ]
  },
  {
   "cell_type": "code",
   "execution_count": 3,
   "metadata": {},
   "outputs": [],
   "source": [
    "#매크로용 웹켜기\n",
    "#driver = webdriver.Remote('http://localhost:4444/wd/hub', options.to_capabilities())  # 셀레 서버를 Standalone 방식으로 가동\n",
    "driver = webdriver.Chrome('./chromedriver')\n",
    "driver.implicitly_wait(3)"
   ]
  },
  {
   "cell_type": "code",
   "execution_count": 4,
   "metadata": {
    "scrolled": true
   },
   "outputs": [],
   "source": [
    "#https://cafe.naver.com/soho : href=\"/ArticleList.nhn?search.clubid=10094408&search.menuid=416&userDisplay=50&search.boardtype=L&search.specialmenutype=&search.questionTab=A&search.totalCount=501&search.page=1\"\n",
    "#https://cafe.naver.com/jihosoccer123\n",
    "#https://cafe.naver.com/fashionchangup"
   ]
  },
  {
   "cell_type": "code",
   "execution_count": 5,
   "metadata": {},
   "outputs": [],
   "source": [
    "#로그인창 열기\n",
    "driver.get('https://nid.naver.com/nidlogin.login')"
   ]
  },
  {
   "cell_type": "code",
   "execution_count": 6,
   "metadata": {},
   "outputs": [],
   "source": [
    "# 아이디와 비밀번호 입력(자동방지 입력창 안뜨게하는 방법)\n",
    "id = '2kanhgee1'\n",
    "pw = 'VMFLALDJA12!!'\n",
    "driver.execute_script(\"document.getElementsByName('id')[0].value=\\'\" + id + \"\\'\")\n",
    "driver.execute_script(\"document.getElementsByName('pw')[0].value=\\'\" + pw + \"\\'\")\n",
    "driver.find_element_by_xpath('//*[@id=\"frmNIDLogin\"]/fieldset/input').click()"
   ]
  },
  {
   "cell_type": "markdown",
   "metadata": {},
   "source": [
    "### 로그인(원래)\n",
    "driver.find_element_by_name('id').send_keys('2kanhgee1')\n",
    "\n",
    "driver.find_element_by_name('pw').send_keys('VMFLALDJA12!!')\n",
    "\n",
    "driver.find_element_by_css_selector('#frmNIDLogin > fieldset > input').click()"
   ]
  },
  {
   "cell_type": "code",
   "execution_count": 51,
   "metadata": {
    "scrolled": true
   },
   "outputs": [],
   "source": [
    "user_id = []\n",
    "for n in range(1,100):\n",
    "    base_url = f'https://cafe.naver.com/soho/ArticleList.nhn?search.clubid=10094408&search.menuid=416&userDisplay=50&search.boardtype=L&search.specialmenutype=&search.questionTab=A&search.totalCount=501&search.page={n}'\n",
    "    driver.get(base_url)\n",
    "    #iframe으로 프레임 전환\n",
    "    driver.switch_to.frame('cafe_main')\n",
    "    user_id.extend([ i.get_attribute('onclick') for i in driver.find_elements_by_css_selector('td:nth-child(3) > div > table > tbody > tr > td > a')])"
   ]
  },
  {
   "cell_type": "code",
   "execution_count": 54,
   "metadata": {},
   "outputs": [],
   "source": [
    "id_list = []\n",
    "for user in user_id:\n",
    "        user1 = user.split(',')\n",
    "        user2 = user1[1]\n",
    "        user3 = user2[2:-1]+ str('@naver.com')\n",
    "        nickname = user1[3]\n",
    "        nickname = nickname[1:-1]\n",
    "        id_list.append({'user': user3, 'nickname': nickname})"
   ]
  },
  {
   "cell_type": "code",
   "execution_count": 55,
   "metadata": {},
   "outputs": [],
   "source": [
    "# 결과 데이터프레임화\n",
    "cafe_df = pd.DataFrame(id_list)\n",
    "# csv파일로 추출\n",
    "import openpyxl\n",
    "cafe_df.to_excel('sohomall_1.xlsx', sheet_name = 'sheet1')"
   ]
  },
  {
   "cell_type": "markdown",
   "metadata": {},
   "source": [
    "/ArticleList.nhn?search.clubid=29518295&search.boardtype=L&search.menuid=58&search.questionTab=A&search.marketBoardTab=D&search.specialmenutype=&userDisplay=50\n",
    "/ArticleList.nhn?search.clubid=29518295&search.menuid=58&userDisplay=50&search.boardtype=L&search.specialmenutype=&search.questionTab=A&search.totalCount=475&search.page=2\n",
    "/ArticleList.nhn?search.clubid=29518295&search.menuid=58&userDisplay=50&search.boardtype=L&search.specialmenutype=&search.questionTab=A&search.totalCount=475&search.page=3"
   ]
  },
  {
   "cell_type": "code",
   "execution_count": null,
   "metadata": {},
   "outputs": [],
   "source": []
  }
 ],
 "metadata": {
  "kernelspec": {
   "display_name": "Python 3",
   "language": "python",
   "name": "python3"
  },
  "language_info": {
   "codemirror_mode": {
    "name": "ipython",
    "version": 3
   },
   "file_extension": ".py",
   "mimetype": "text/x-python",
   "name": "python",
   "nbconvert_exporter": "python",
   "pygments_lexer": "ipython3",
   "version": "3.7.1"
  }
 },
 "nbformat": 4,
 "nbformat_minor": 2
}
